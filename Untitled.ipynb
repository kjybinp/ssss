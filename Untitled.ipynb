{
 "cells": [
  {
   "cell_type": "code",
   "execution_count": 77,
   "metadata": {},
   "outputs": [
    {
     "name": "stdout",
     "output_type": "stream",
     "text": [
      "dict_keys(['test_00.jpg', 'test_01.jpg', 'test_03.jpg', 'test_08.jpg', 'test_05.jpg', 'test_17.jpg', 'test_11.jpg', 'test_16.jpg', 'test_19.jpg', 'test_06.jpg', 'test_07.jpg', 'test_10.jpg', 'test_09.jpg', 'test_02.jpg', 'test_04.jpg', 'test_18.jpg', 'test_20.jpg', 'test_14.jpg', 'test_12.jpg', 'test_13.jpg', 'test_15.jpg'])\n",
      "dict_keys(['barge', 'ship_moving', 'ship_not_moving'])\n",
      "[9275, 11454, 9322, 11523]\n"
     ]
    }
   ],
   "source": [
    "import json\n",
    "\n",
    "f = open('output02.json')\n",
    "submit = json.load(f)\n",
    "print(submit.keys())\n",
    "print(submit['test_00.jpg'].keys())\n",
    "print(submit['test_00.jpg']['barge'][0])"
   ]
  },
  {
   "cell_type": "code",
   "execution_count": 18,
   "metadata": {},
   "outputs": [
    {
     "name": "stdout",
     "output_type": "stream",
     "text": [
      "[888.  12. 327.  29.]\n",
      "[191.  11.  57.   0.]\n",
      "[16.  7. 33.  3.]\n",
      "[282.  15. 273.  14.]\n",
      "[92.  8. 46.  6.]\n",
      "[ 6.  7. 24.  0.]\n",
      "[187.   5.  37.   9.]\n",
      "[883.  14. 250.  37.]\n",
      "[184.  11.  44.   6.]\n",
      "[11.  9. 26.  0.]\n",
      "[962.   7. 309.  33.]\n",
      "[140.  18. 104.   1.]\n",
      "[12. 14. 30.  1.]\n",
      "[858.  10. 259.   0.]\n",
      "[177.  15.  83.   0.]\n",
      "[39.  5. 43.  0.]\n",
      "[260.  21.  24.   0.]\n",
      "[967.  14. 320.  15.]\n",
      "[75. 10. 20.  0.]\n",
      "[15. 11. 47.  2.]\n",
      "sum = [6245.  224. 2356.  156.]\n"
     ]
    }
   ],
   "source": [
    "import json\n",
    "from PIL import Image\n",
    "import matplotlib.pyplot as plt\n",
    "import numpy as np\n",
    "\n",
    "if not 'move_dataset' in os.listdir():\n",
    "    os.mkdir('move_dataset')\n",
    "    os.mkdir('move_dataset/train')\n",
    "    os.mkdir('move_dataset/val')\n",
    "    os.mkdir('move_dataset/train/ship_moving')\n",
    "    os.mkdir('move_dataset/val/ship_moving')\n",
    "    os.mkdir('move_dataset/train/ship_not_moving')\n",
    "    os.mkdir('move_dataset/val/ship_not_moving')\n",
    "\n",
    "\n",
    "L = 224\n",
    "\n",
    "Image.MAX_IMAGE_PIXELS = 1000000000\n",
    "d = {'ship_not_moving':0,'ship_moving':1,'barge':2,'unknown':3}\n",
    "cnts = np.zeros(4)\n",
    "for i in range(20):\n",
    "    f = 'train_images/train_{0}.jpg'.format(str(i).zfill(2))\n",
    "    img = Image.open(f)\n",
    "    f = open('train_annotations/train_{0}.json'.format(str(i).zfill(2)))\n",
    "    anno = json.load(f)\n",
    "    cnt = np.zeros(4)\n",
    "    for j in range(len(anno['labels'])):       \n",
    "        #print(anno['labels'][j])\n",
    "        cnt[int(d[anno['labels'][j]['category']])] += 1\n",
    "        label = anno['labels'][j]['category']\n",
    "        if label=='ship_moving' or label=='ship_not_moving':\n",
    "            K = 10 if label == 'ship_moving' else 1\n",
    "            b = anno['labels'][j]['box2d']\n",
    "            m = max(b['x2']-b['x1'],b['y2']-b['y1'])\n",
    "            xx = np.random.choice(list(range(-int(m/2),int(m/2))),K)\n",
    "            yy = np.random.choice(list(range(-int(m/2),int(m/2))),K)\n",
    "            for k in range(K):\n",
    "                file = 'move_dataset/{0}/{1}/{2}_{3}_{4}.jpg'.format('train' if i<15 else 'val',label,str(i),str(j),str(k))    \n",
    "                simg = img.crop((int((b['x1']+b['x2'])/2-m+xx[k]),int((b['y1']+b['y2'])/2-m+yy[k]),\\\n",
    "                                 int((b['x1']+b['x2'])/2+m+xx[k]),int((b['y1']+b['y2'])/2+m+yy[k])))\n",
    "                simg = simg.resize((L,L),Image.BICUBIC)\n",
    "                simg.save(file)\n",
    "            if 0:\n",
    "                plt.imshow(simg)\n",
    "                plt.show()\n",
    "    print(cnt)\n",
    "    cnts = cnts+cnt\n",
    "print('sum = ',end='')\n",
    "print(cnts)"
   ]
  },
  {
   "cell_type": "code",
   "execution_count": 13,
   "metadata": {},
   "outputs": [
    {
     "name": "stdout",
     "output_type": "stream",
     "text": [
      "val\n"
     ]
    }
   ],
   "source": [
    "print('train' if j<15 else 'val')"
   ]
  },
  {
   "cell_type": "code",
   "execution_count": 4,
   "metadata": {},
   "outputs": [
    {
     "name": "stdout",
     "output_type": "stream",
     "text": [
      "             filename      x1      y1      x2      y2            class  \\\n",
      "0  test_00_detect.jpg  6340.0   794.0  6394.0   822.0            barge   \n",
      "1  test_00_detect.jpg  4263.0  1168.0  4299.0  1261.0            barge   \n",
      "2  test_00_detect.jpg  4303.0  1174.0  4320.0  1271.0            barge   \n",
      "3  test_00_detect.jpg  5762.0  1290.0  5792.0  1326.0            barge   \n",
      "4  test_00_detect.jpg  8502.0  1684.0  8533.0  1704.0  ship_not_moving   \n",
      "\n",
      "       conf  \n",
      "0  0.856819  \n",
      "1  0.554493  \n",
      "2  0.528150  \n",
      "3  0.659387  \n",
      "4  0.635533  \n"
     ]
    },
    {
     "ename": "FileNotFoundError",
     "evalue": "[WinError 3] 指定されたパスが見つかりません。: 'move_dataset'",
     "output_type": "error",
     "traceback": [
      "\u001b[0;31m---------------------------------------------------------------------------\u001b[0m",
      "\u001b[0;31mFileNotFoundError\u001b[0m                         Traceback (most recent call last)",
      "\u001b[0;32m<ipython-input-4-03a92c9e1cbd>\u001b[0m in \u001b[0;36m<module>\u001b[0;34m()\u001b[0m\n\u001b[1;32m      7\u001b[0m \u001b[0mdic\u001b[0m \u001b[1;33m=\u001b[0m \u001b[1;33m{\u001b[0m\u001b[1;33m}\u001b[0m\u001b[1;33m\u001b[0m\u001b[0m\n\u001b[1;32m      8\u001b[0m \u001b[1;33m\u001b[0m\u001b[0m\n\u001b[0;32m----> 9\u001b[0;31m \u001b[1;32mif\u001b[0m \u001b[1;32mnot\u001b[0m \u001b[0mos\u001b[0m\u001b[1;33m.\u001b[0m\u001b[0mlistdir\u001b[0m\u001b[1;33m(\u001b[0m\u001b[1;34m'move_dataset'\u001b[0m\u001b[1;33m)\u001b[0m\u001b[1;33m:\u001b[0m\u001b[1;33m\u001b[0m\u001b[0m\n\u001b[0m\u001b[1;32m     10\u001b[0m     \u001b[0mos\u001b[0m\u001b[1;33m.\u001b[0m\u001b[0mmkdir\u001b[0m\u001b[1;33m(\u001b[0m\u001b[1;34m'move_dataset'\u001b[0m\u001b[1;33m)\u001b[0m\u001b[1;33m\u001b[0m\u001b[0m\n\u001b[1;32m     11\u001b[0m \u001b[1;33m\u001b[0m\u001b[0m\n",
      "\u001b[0;31mFileNotFoundError\u001b[0m: [WinError 3] 指定されたパスが見つかりません。: 'move_dataset'"
     ]
    }
   ],
   "source": [
    "import pandas as pd\n",
    "import os\n",
    "\n",
    "df = pd.read_csv('predicted_all_05_50.csv')\n",
    "print(df.head())\n",
    "cls = ['barge', 'ship_moving', 'ship_not_moving']\n",
    "dic = {}\n",
    "\n",
    "\n",
    "for i in range(21):\n",
    "    img_file = 'test_{0}_detect.jpg'.format(str(i).zfill(2))\n",
    "    sdf = df[df['filename']==img_file]\n",
    "    print(img_file,len(sdf))\n",
    "    img_dic = {}\n",
    "    for c in cls:\n",
    "        ls = []\n",
    "        ssdf = sdf[sdf['class']==c]\n",
    "        ssdf = ssdf.sort_values(by='conf', ascending=False)\n",
    "        print(c,len(ssdf))\n",
    "        for j in ssdf.index:\n",
    "            ls.append([int(ssdf.loc[j,'x1']),int(ssdf.loc[j,'y1']),int(ssdf.loc[j,'x2']),int(ssdf.loc[j,'y2'])])\n",
    "        if len(ssdf)==0:\n",
    "            ls.append([int(0),int(0),int(100),int(100)])\n",
    "            print('attention!!')\n",
    "        img_dic[c] = ls\n",
    "    img_file = 'test_{0}.jpg'.format(str(i).zfill(2))\n",
    "    dic[img_file] = img_dic\n",
    "#print(dic)\n",
    "f = open('output03.json', 'w')\n",
    "json.dump(dic, f)"
   ]
  },
  {
   "cell_type": "code",
   "execution_count": null,
   "metadata": {},
   "outputs": [],
   "source": [
    "import pandas as pd\n",
    "import os\n",
    "import matplotlib.pyplot as plt\n",
    "from PIL import Image\n",
    "\n",
    "Image.MAX_IMAGE_PIXELS = 1000000000\n",
    "\n",
    "df = pd.read_csv('predicted_all_y1.csv')\n",
    "print(df.head())\n",
    "cls = [ 'ship','barge']\n",
    "dic = {}\n",
    "\n",
    "\n",
    "for i in range(21):\n",
    "    img_file = 'test_{0}_detect.jpg'.format(str(i).zfill(2))\n",
    "    sdf = df[df['filename']==img_file]\n",
    "    f = 'test_images/test_{0}.jpg'.format(str(i).zfill(2))\n",
    "    img = Image.open(f)\n",
    "    print(img_file,len(sdf))\n",
    "    img_dic = {}\n",
    "    for c in cls:\n",
    "        ls = []\n",
    "        ssdf = sdf[sdf['class']==c]\n",
    "        ssdf = ssdf.sort_values(by='conf', ascending=False)\n",
    "        print(c,len(ssdf))\n",
    "        for j in ssdf.index:\n",
    "            print(c)\n",
    "            m = max(ssdf.loc[j,'x2']-ssdf.loc[j,'x1'],ssdf.loc[j,'y2']-ssdf.loc[j,'y1'])\n",
    "            ls.append([int(ssdf.loc[j,'x1']),int(ssdf.loc[j,'y1']),int(ssdf.loc[j,'x2']),int(ssdf.loc[j,'y2'])])\n",
    "            #simg = img.crop((int(ssdf.loc[j,'x1']),int(ssdf.loc[j,'y1']),int(ssdf.loc[j,'x2']),int(ssdf.loc[j,'y2'])))\n",
    "            simg = img.crop((int((ssdf.loc[j,'x1']+ssdf.loc[j,'x2'])/2-m),int((ssdf.loc[j,'y1']+ssdf.loc[j,'y2'])/2-m),\\\n",
    "                                 int((ssdf.loc[j,'x1']+ssdf.loc[j,'x2'])/2+m),int((ssdf.loc[j,'y1']+ssdf.loc[j,'y2'])/2+m)))\n",
    "            if 1:\n",
    "                plt.imshow(simg)\n",
    "                plt.show()\n",
    "        if len(ssdf)==0:\n",
    "            ls.append([int(0),int(0),int(100),int(100)])\n",
    "            print('attention!!')\n",
    "        img_dic[c] = ls\n",
    "    img_file = 'test_{0}.jpg'.format(str(i).zfill(2))\n",
    "    dic[img_file] = img_dic\n",
    "#print(dic)\n",
    "f = open('output03.json', 'w')\n",
    "json.dump(dic, f)"
   ]
  },
  {
   "cell_type": "code",
   "execution_count": 2,
   "metadata": {},
   "outputs": [
    {
     "name": "stdout",
     "output_type": "stream",
     "text": [
      "a\n"
     ]
    }
   ],
   "source": [
    "print('a')"
   ]
  },
  {
   "cell_type": "code",
   "execution_count": null,
   "metadata": {},
   "outputs": [],
   "source": []
  }
 ],
 "metadata": {
  "kernelspec": {
   "display_name": "Python 3",
   "language": "python",
   "name": "python3"
  },
  "language_info": {
   "codemirror_mode": {
    "name": "ipython",
    "version": 3
   },
   "file_extension": ".py",
   "mimetype": "text/x-python",
   "name": "python",
   "nbconvert_exporter": "python",
   "pygments_lexer": "ipython3",
   "version": "3.6.1"
  }
 },
 "nbformat": 4,
 "nbformat_minor": 2
}
